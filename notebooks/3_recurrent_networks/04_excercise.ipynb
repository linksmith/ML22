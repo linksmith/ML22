{
 "cells": [
  {
   "cell_type": "code",
   "execution_count": 33,
   "metadata": {},
   "outputs": [],
   "source": [
    "import sys\n",
    "sys.path.insert(0, \"../..\")\n",
    "from src.data import data_tools\n",
    "from pathlib import Path\n",
    "from src.models import rnn_models, train_model, metrics\n",
    "import gin\n",
    "import numpy as np\n",
    "import torch\n",
    "from typing import List\n",
    "from torch.nn.utils.rnn import pad_sequence"
   ]
  },
  {
   "attachments": {},
   "cell_type": "markdown",
   "metadata": {},
   "source": [
    "# 1 Iterators\n",
    "We will be using an interesting dataset. [link](https://tev.fbk.eu/resources/smartwatch)\n",
    "\n",
    "From the site:\n",
    "> The SmartWatch Gestures Dataset has been collected to evaluate several gesture recognition algorithms for interacting with mobile applications using arm gestures. Eight different users performed twenty repetitions of twenty different gestures, for a total of 3200 sequences. Each sequence contains acceleration data from the 3-axis accelerometer of a first generation Sony SmartWatch™, as well as timestamps from the different clock sources available on an Android device. The smartwatch was worn on the user's right wrist. \n",
    "\n",
    "# 1.1 Iterator design pattern\n",
    "This is a nice opportunity to create our own custom iterator. First, let's look at the simplified design pattern for an iterator.\n",
    "This introduces two additional dunder methods, used in forloops."
   ]
  },
  {
   "cell_type": "code",
   "execution_count": 2,
   "metadata": {},
   "outputs": [
    {
     "name": "stdout",
     "output_type": "stream",
     "text": [
      "0\n",
      "1\n",
      "2\n",
      "3\n",
      "4\n"
     ]
    }
   ],
   "source": [
    "class BaseIterator:\n",
    "  def __init__(self, n: int):\n",
    "    self.n = n\n",
    "    # we generate some dummy data\n",
    "    self.data = [*range(self.n)]\n",
    "\n",
    "  def __iter__(self):\n",
    "    # startindex; this makes the first index used effectively 0,\n",
    "    # because -1 is smaller than the dataset so the first\n",
    "    # thing that will happen in __next__ is to add +1\n",
    "    self.idx = -1\n",
    "    # we return the full object when iter() is called\n",
    "    return self\n",
    "\n",
    "  def __next__(self):\n",
    "    # for every iteration, __next__ is called\n",
    "    # as long as the idx is not bigger than the data\n",
    "    # we need to do -1, because we will increase idx directly after this\n",
    "    if self.idx < len(self.data) - 1:\n",
    "      self.idx += 1\n",
    "      return self.data[self.idx]\n",
    "    else:\n",
    "      raise StopIteration\n",
    "\n",
    "myclass = BaseIterator(n=5)\n",
    "myiter = iter(myclass) # this calles the __iter__ method and sets idx to -1\n",
    "\n",
    "for x in myiter: # this calls the __next__ method\n",
    "  print(x)"
   ]
  },
  {
   "attachments": {},
   "cell_type": "markdown",
   "metadata": {},
   "source": [
    "Note how `__iter__` returns `self` with the startsettings (`idx=-1`).\n",
    "Every time we call `__next__`, (implicitly in a forloop or explicitly with `next()`) the idx is increased by +1.\n",
    "\n",
    "If you keep calling `next()`, you will eventually get a `StopIteration` error but a forloop will wait for that and stop the loop gracefully.\n",
    "\n",
    "## 1.2 Iterator implementation\n",
    "Now, we extend this pattern to our dataset. We will use what we have seen before with the images (lesson 1, 02_datagenerators.ipynb and 03_dataloader.ipynb): we load the paths, and use these to generate the data."
   ]
  },
  {
   "cell_type": "code",
   "execution_count": 3,
   "metadata": {},
   "outputs": [],
   "source": [
    "from __future__ import annotations\n",
    "from typing import Tuple\n",
    "from tqdm import tqdm\n",
    "import random\n",
    "Tensor = torch.Tensor\n",
    "\n",
    "# the base dataset that provides the boilerplate code\n",
    "class BaseDataset:\n",
    "    def __init__(self, paths: List[Path]) -> None:\n",
    "        self.paths = paths\n",
    "        random.shuffle(self.paths)\n",
    "        self.dataset = []\n",
    "        self.process_data()\n",
    "\n",
    "    def process_data(self) -> None:\n",
    "        # this needs to be implemented if you want to use the BaseDataset\n",
    "        raise NotImplementedError\n",
    "\n",
    "    def __len__(self) -> int:\n",
    "        return len(self.dataset)\n",
    "\n",
    "    def __getitem__(self, idx: int) -> Tuple[Tensor, int]:\n",
    "        return self.dataset[idx]\n",
    "\n",
    "# the TSDataset, that inherits all the boilerplate code\n",
    "# and implements a process_data method for this dataset\n",
    "class TSDataset(BaseDataset):\n",
    "    # this is called inheritance.\n",
    "    # we get all the methods from the BaseDataset for free\n",
    "    # Only thing we need to do is implement the process_data method\n",
    "    def process_data(self) -> None:\n",
    "        for file in tqdm(self.paths):\n",
    "            x_ = np.genfromtxt(file)[:, 3:]\n",
    "            x = torch.tensor(x_).type(torch.float32)\n",
    "            y = torch.tensor(int(file.parent.name) - 1)\n",
    "            self.dataset.append((x, y))"
   ]
  },
  {
   "cell_type": "code",
   "execution_count": 4,
   "metadata": {},
   "outputs": [],
   "source": [
    "class BaseDataIterator:\n",
    "    def __init__(self, dataset: BaseDataset, batchsize: int):\n",
    "        self.dataset = dataset\n",
    "        self.batchsize = batchsize\n",
    "\n",
    "    def __len__(self) -> int:\n",
    "        # the lenght is the amount of batches\n",
    "        return int(len(self.dataset) / self.batchsize)\n",
    "\n",
    "    def __iter__(self) -> BaseDataIterator:\n",
    "        # initialize index\n",
    "        self.index = 0\n",
    "        self.index_list = torch.randperm(len(self.dataset))\n",
    "        return self\n",
    "    \n",
    "    def batchloop(self) -> Tuple[Tensor, Tensor]:\n",
    "        X = []  # noqa N806\n",
    "        Y = []  # noqa N806\n",
    "        # fill the batch\n",
    "        for _ in range(self.batchsize):\n",
    "            # the design trick with the index_list and index allows us to shuffle the\n",
    "            # index_list every time we call __iter__\n",
    "            # withouth shuffling the actual data\n",
    "            x, y = self.dataset[int(self.index_list[self.index])]\n",
    "            X.append(x)\n",
    "            Y.append(y)\n",
    "            # the index will signal the end of the dataset in the __next__ method \n",
    "            self.index += 1\n",
    "        return X, Y\n",
    "\n",
    "    def __next__(self) -> Tuple[Tensor, Tensor]:\n",
    "        if self.index <= (len(self.dataset) - self.batchsize):\n",
    "            # this stops the iteration just before the index\n",
    "            # would reach the end of the length of the dataset\n",
    "            X, Y = self.batchloop()\n",
    "            return X, Y\n",
    "        else:\n",
    "            raise StopIteration\n",
    "\n",
    "\n",
    "class PaddedDatagenerator(BaseDataIterator):\n",
    "    # again, we inherit everything from the baseclass\n",
    "    def __init__(self, dataset: BaseDataset, batchsize: int) -> None:\n",
    "        # we initialize the super class BaseDataIterator\n",
    "        # we now have everything the BaseDataIterator can do, for free\n",
    "        super().__init__(dataset, batchsize)\n",
    "    \n",
    "    def __next__(self) -> Tuple[Tensor, Tensor]:\n",
    "        if self.index <= (len(self.dataset) - self.batchsize):\n",
    "            X, Y = self.batchloop()\n",
    "            # we just want to add padding\n",
    "            X_ = pad_sequence(X, batch_first=True, padding_value=0)  # noqa N806\n",
    "            return X_, torch.tensor(Y)\n",
    "        else:\n",
    "            raise StopIteration"
   ]
  },
  {
   "attachments": {},
   "cell_type": "markdown",
   "metadata": {},
   "source": [
    "The main difference with the pattern we used before, is that this pattern will stop after the last item is spit out.\n",
    "The generator from the first lesson will go on forever, due to the `while True` loop.\n",
    "\n",
    "## 1.3 Train-test"
   ]
  },
  {
   "cell_type": "code",
   "execution_count": 8,
   "metadata": {},
   "outputs": [
    {
     "data": {
      "text/plain": [
       "651"
      ]
     },
     "execution_count": 8,
     "metadata": {},
     "output_type": "execute_result"
    }
   ],
   "source": [
    "data_dir = Path(\"../../data/external/gestures-dataset/\").resolve()\n",
    "\n",
    "# get all paths with the .txt extension\n",
    "formats = [\".txt\"]\n",
    "paths = [path for path in data_tools.walk_dir(data_dir) if path.suffix in formats]\n",
    "# make a train-test split\n",
    "split = 0.8\n",
    "idx = int(len(paths) * split)\n",
    "trainpaths = paths[:idx]\n",
    "testpaths = paths[idx:]"
   ]
  },
  {
   "cell_type": "code",
   "execution_count": 9,
   "metadata": {},
   "outputs": [
    {
     "name": "stderr",
     "output_type": "stream",
     "text": [
      "100%|██████████| 2600/2600 [00:04<00:00, 636.99it/s]\n",
      "100%|██████████| 651/651 [00:00<00:00, 655.33it/s]\n"
     ]
    }
   ],
   "source": [
    "traindataset = TSDataset(trainpaths)\n",
    "testdataset = TSDataset(testpaths)"
   ]
  },
  {
   "cell_type": "code",
   "execution_count": 10,
   "metadata": {},
   "outputs": [],
   "source": [
    "batchsize = 32\n",
    "trainloader = PaddedDatagenerator(traindataset, batchsize=batchsize)\n",
    "testloader = PaddedDatagenerator(testdataset, batchsize=batchsize)"
   ]
  },
  {
   "cell_type": "code",
   "execution_count": 11,
   "metadata": {},
   "outputs": [
    {
     "data": {
      "text/plain": [
       "(torch.Size([20, 3]), tensor(11))"
      ]
     },
     "execution_count": 11,
     "metadata": {},
     "output_type": "execute_result"
    }
   ],
   "source": [
    "x, y = traindataset[0]\n",
    "x.shape, y"
   ]
  },
  {
   "cell_type": "code",
   "execution_count": 12,
   "metadata": {},
   "outputs": [
    {
     "data": {
      "text/plain": [
       "(2600, 81, 651, 20)"
      ]
     },
     "execution_count": 12,
     "metadata": {},
     "output_type": "execute_result"
    }
   ],
   "source": [
    "len(traindataset), len(trainloader), len(testdataset), len(testloader)"
   ]
  },
  {
   "attachments": {},
   "cell_type": "markdown",
   "metadata": {},
   "source": [
    "What does the lenght mean?"
   ]
  },
  {
   "cell_type": "code",
   "execution_count": 13,
   "metadata": {},
   "outputs": [
    {
     "data": {
      "text/plain": [
       "(torch.Size([32, 30, 3]), torch.Size([32]))"
      ]
     },
     "execution_count": 13,
     "metadata": {},
     "output_type": "execute_result"
    }
   ],
   "source": [
    "x, y = next(iter(trainloader))\n",
    "x.shape, y.shape"
   ]
  },
  {
   "attachments": {},
   "cell_type": "markdown",
   "metadata": {},
   "source": [
    "Can you make sense of the shape?\n",
    "\n",
    "# 2 Excercises\n",
    "Lets test a basemodel, and try to improve upon that.\n",
    "\n",
    "Fill the gestures.gin file with relevant settings for `input_size`, `hidden_size`, `num_layers` and `horizon` (which, in our case, will be the number of classes...)\n",
    "\n",
    "As a rule of thumbs: start lower than you expect to need!"
   ]
  },
  {
   "cell_type": "code",
   "execution_count": 14,
   "metadata": {},
   "outputs": [],
   "source": [
    "gin.parse_config_file(\"gestures.gin\")\n",
    "model = rnn_models.BaseRNN()"
   ]
  },
  {
   "cell_type": "code",
   "execution_count": 15,
   "metadata": {},
   "outputs": [
    {
     "data": {
      "text/plain": [
       "{'input_size': 3, 'hidden_size': 128, 'num_layers': 3, 'horizon': 20}"
      ]
     },
     "execution_count": 15,
     "metadata": {},
     "output_type": "execute_result"
    }
   ],
   "source": [
    "gin.get_bindings(\"BaseRNN\")"
   ]
  },
  {
   "cell_type": "code",
   "execution_count": 16,
   "metadata": {},
   "outputs": [
    {
     "data": {
      "text/plain": [
       "{'epochs': 10,\n",
       " 'learning_rate': 0.001,\n",
       " 'optimizer': torch.optim.adam.Adam,\n",
       " 'loss_fn': CrossEntropyLoss()}"
      ]
     },
     "execution_count": 16,
     "metadata": {},
     "output_type": "execute_result"
    }
   ],
   "source": [
    "gin.get_bindings(\"trainloop\")"
   ]
  },
  {
   "attachments": {},
   "cell_type": "markdown",
   "metadata": {},
   "source": [
    "Test the model. What is the output shape you need? Remember, we are doing classification!"
   ]
  },
  {
   "cell_type": "code",
   "execution_count": 17,
   "metadata": {},
   "outputs": [
    {
     "data": {
      "text/plain": [
       "torch.Size([32, 20])"
      ]
     },
     "execution_count": 17,
     "metadata": {},
     "output_type": "execute_result"
    }
   ],
   "source": [
    "yhat = model(x)\n",
    "yhat.shape"
   ]
  },
  {
   "attachments": {},
   "cell_type": "markdown",
   "metadata": {},
   "source": [
    "Test the accuracy"
   ]
  },
  {
   "cell_type": "code",
   "execution_count": 21,
   "metadata": {},
   "outputs": [
    {
     "data": {
      "text/plain": [
       "tensor(0.1250)"
      ]
     },
     "execution_count": 21,
     "metadata": {},
     "output_type": "execute_result"
    }
   ],
   "source": [
    "from src.models import metrics\n",
    "\n",
    "accuracy = metrics.Accuracy()\n",
    "accuracy(y, yhat)"
   ]
  },
  {
   "attachments": {},
   "cell_type": "markdown",
   "metadata": {},
   "source": [
    "What do you think of the accuracy? What would you expect from blind guessing?\n",
    "\n",
    "Check shape of `y` and `yhat`"
   ]
  },
  {
   "cell_type": "code",
   "execution_count": 18,
   "metadata": {},
   "outputs": [
    {
     "data": {
      "text/plain": [
       "(torch.Size([32, 20]), torch.Size([32]))"
      ]
     },
     "execution_count": 18,
     "metadata": {},
     "output_type": "execute_result"
    }
   ],
   "source": [
    "yhat.shape, y.shape"
   ]
  },
  {
   "attachments": {},
   "cell_type": "markdown",
   "metadata": {},
   "source": [
    "And look at the output of yhat"
   ]
  },
  {
   "cell_type": "code",
   "execution_count": 18,
   "metadata": {},
   "outputs": [
    {
     "data": {
      "text/plain": [
       "tensor([-0.2697,  0.1872,  0.0546, -0.1450,  0.0786, -0.1551,  0.1575, -0.2188,\n",
       "        -0.0025,  0.0450,  0.1797, -0.1339,  0.0601, -0.1450, -0.1157,  0.0226,\n",
       "        -0.1550,  0.0707,  0.1905,  0.0204], grad_fn=<SelectBackward0>)"
      ]
     },
     "execution_count": 18,
     "metadata": {},
     "output_type": "execute_result"
    }
   ],
   "source": [
    "yhat[0]"
   ]
  },
  {
   "attachments": {},
   "cell_type": "markdown",
   "metadata": {},
   "source": [
    "Does this make sense to you? If you are unclear, go back to the classification problem with the MNIST, where we had 10 classes.\n",
    "\n",
    "We have a classification problem, so we need Cross Entropy Loss.\n",
    "Remember, [this has a softmax built in](https://pytorch.org/docs/stable/generated/torch.nn.CrossEntropyLoss.html) "
   ]
  },
  {
   "cell_type": "code",
   "execution_count": 22,
   "metadata": {},
   "outputs": [
    {
     "data": {
      "text/plain": [
       "tensor(2.9811, grad_fn=<NllLossBackward0>)"
      ]
     },
     "execution_count": 22,
     "metadata": {},
     "output_type": "execute_result"
    }
   ],
   "source": [
    "loss_fn = torch.nn.CrossEntropyLoss()\n",
    "loss = loss_fn(yhat, y)\n",
    "accuracy = metrics.Accuracy()\n",
    "loss"
   ]
  },
  {
   "cell_type": "code",
   "execution_count": 39,
   "metadata": {},
   "outputs": [
    {
     "ename": "ValueError",
     "evalue": "A different configurable matching 'src.models.rnn_models.BaseRNN' already exists.\n\nTo allow re-registration of configurables in an interactive environment, use:\n\n    gin.enter_interactive_mode()",
     "output_type": "error",
     "traceback": [
      "\u001b[0;31m---------------------------------------------------------------------------\u001b[0m",
      "\u001b[0;31mValueError\u001b[0m                                Traceback (most recent call last)",
      "Cell \u001b[0;32mIn[39], line 8\u001b[0m\n\u001b[1;32m      6\u001b[0m mlflow\u001b[39m.\u001b[39mset_experiment(\u001b[39m\"\u001b[39m\u001b[39mgestures\u001b[39m\u001b[39m\"\u001b[39m)\n\u001b[1;32m      7\u001b[0m modeldir \u001b[39m=\u001b[39m Path(\u001b[39m\"\u001b[39m\u001b[39m../../models/gestures/\u001b[39m\u001b[39m\"\u001b[39m)\u001b[39m.\u001b[39mresolve()\n\u001b[0;32m----> 8\u001b[0m reload(rnn_models)\n\u001b[1;32m      9\u001b[0m \u001b[39m# gin.parse_config_file(\"gestures.gin\")\u001b[39;00m\n\u001b[1;32m     10\u001b[0m \u001b[39m# gin.parse_config_file(\"gestures_gru.gin\")\u001b[39;00m\n\u001b[1;32m     11\u001b[0m gin\u001b[39m.\u001b[39menter_interactive_mode()\n",
      "File \u001b[0;32m/usr/local/lib/python3.10/importlib/__init__.py:169\u001b[0m, in \u001b[0;36mreload\u001b[0;34m(module)\u001b[0m\n\u001b[1;32m    167\u001b[0m \u001b[39mif\u001b[39;00m spec \u001b[39mis\u001b[39;00m \u001b[39mNone\u001b[39;00m:\n\u001b[1;32m    168\u001b[0m     \u001b[39mraise\u001b[39;00m \u001b[39mModuleNotFoundError\u001b[39;00m(\u001b[39mf\u001b[39m\u001b[39m\"\u001b[39m\u001b[39mspec not found for the module \u001b[39m\u001b[39m{\u001b[39;00mname\u001b[39m!r}\u001b[39;00m\u001b[39m\"\u001b[39m, name\u001b[39m=\u001b[39mname)\n\u001b[0;32m--> 169\u001b[0m _bootstrap\u001b[39m.\u001b[39;49m_exec(spec, module)\n\u001b[1;32m    170\u001b[0m \u001b[39m# The module may have replaced itself in sys.modules!\u001b[39;00m\n\u001b[1;32m    171\u001b[0m \u001b[39mreturn\u001b[39;00m sys\u001b[39m.\u001b[39mmodules[name]\n",
      "File \u001b[0;32m<frozen importlib._bootstrap>:619\u001b[0m, in \u001b[0;36m_exec\u001b[0;34m(spec, module)\u001b[0m\n",
      "File \u001b[0;32m<frozen importlib._bootstrap_external>:883\u001b[0m, in \u001b[0;36mexec_module\u001b[0;34m(self, module)\u001b[0m\n",
      "File \u001b[0;32m<frozen importlib._bootstrap>:241\u001b[0m, in \u001b[0;36m_call_with_frames_removed\u001b[0;34m(f, *args, **kwds)\u001b[0m\n",
      "File \u001b[0;32m/workspaces/ML22/notebooks/3_recurrent_networks/../../src/models/rnn_models.py:23\u001b[0m\n\u001b[1;32m     18\u001b[0m         x \u001b[39m=\u001b[39m \u001b[39mself\u001b[39m\u001b[39m.\u001b[39mlinear(x)\n\u001b[1;32m     19\u001b[0m         \u001b[39mreturn\u001b[39;00m x\n\u001b[1;32m     22\u001b[0m \u001b[39m@gin\u001b[39;49m\u001b[39m.\u001b[39;49mconfigurable\n\u001b[0;32m---> 23\u001b[0m \u001b[39mclass\u001b[39;49;00m \u001b[39mBaseRNN\u001b[39;49;00m(nn\u001b[39m.\u001b[39;49mModule):\n\u001b[1;32m     24\u001b[0m     \u001b[39mdef\u001b[39;49;00m \u001b[39m__init__\u001b[39;49m(\n\u001b[1;32m     25\u001b[0m         \u001b[39mself\u001b[39;49m, input_size: \u001b[39mint\u001b[39;49m, hidden_size: \u001b[39mint\u001b[39;49m, num_layers: \u001b[39mint\u001b[39;49m, horizon: \u001b[39mint\u001b[39;49m\n\u001b[1;32m     26\u001b[0m     ) \u001b[39m-\u001b[39;49m\u001b[39m>\u001b[39;49m \u001b[39mNone\u001b[39;49;00m:\n\u001b[1;32m     27\u001b[0m         \u001b[39msuper\u001b[39;49m()\u001b[39m.\u001b[39;49m\u001b[39m__init__\u001b[39;49m()\n",
      "File \u001b[0;32m~/.cache/pypoetry/virtualenvs/deep-learning-jHmOY0S3-py3.10/lib/python3.10/site-packages/gin/config.py:1793\u001b[0m, in \u001b[0;36mconfigurable\u001b[0;34m(name_or_fn, module, allowlist, denylist)\u001b[0m\n\u001b[1;32m   1790\u001b[0m   \u001b[39mreturn\u001b[39;00m _make_configurable(fn_or_cls, name, module, allowlist, denylist)\n\u001b[1;32m   1792\u001b[0m \u001b[39mif\u001b[39;00m decoration_target:\n\u001b[0;32m-> 1793\u001b[0m   \u001b[39mreturn\u001b[39;00m perform_decoration(decoration_target)\n\u001b[1;32m   1794\u001b[0m \u001b[39mreturn\u001b[39;00m perform_decoration\n",
      "File \u001b[0;32m~/.cache/pypoetry/virtualenvs/deep-learning-jHmOY0S3-py3.10/lib/python3.10/site-packages/gin/config.py:1790\u001b[0m, in \u001b[0;36mconfigurable.<locals>.perform_decoration\u001b[0;34m(fn_or_cls)\u001b[0m\n\u001b[1;32m   1789\u001b[0m \u001b[39mdef\u001b[39;00m \u001b[39mperform_decoration\u001b[39m(fn_or_cls):\n\u001b[0;32m-> 1790\u001b[0m   \u001b[39mreturn\u001b[39;00m _make_configurable(fn_or_cls, name, module, allowlist, denylist)\n",
      "File \u001b[0;32m~/.cache/pypoetry/virtualenvs/deep-learning-jHmOY0S3-py3.10/lib/python3.10/site-packages/gin/config.py:1673\u001b[0m, in \u001b[0;36m_make_configurable\u001b[0;34m(fn_or_cls, name, module, allowlist, denylist, avoid_class_mutation, import_source)\u001b[0m\n\u001b[1;32m   1667\u001b[0m \u001b[39mif\u001b[39;00m (\u001b[39mnot\u001b[39;00m _INTERACTIVE_MODE \u001b[39mand\u001b[39;00m selector \u001b[39min\u001b[39;00m _REGISTRY \u001b[39mand\u001b[39;00m\n\u001b[1;32m   1668\u001b[0m     _REGISTRY[selector]\u001b[39m.\u001b[39mwrapped \u001b[39mis\u001b[39;00m \u001b[39mnot\u001b[39;00m fn_or_cls):\n\u001b[1;32m   1669\u001b[0m   err_str \u001b[39m=\u001b[39m (\u001b[39m\"\u001b[39m\u001b[39mA different configurable matching \u001b[39m\u001b[39m'\u001b[39m\u001b[39m{}\u001b[39;00m\u001b[39m'\u001b[39m\u001b[39m already exists.\u001b[39m\u001b[39m\\n\u001b[39;00m\u001b[39m\\n\u001b[39;00m\u001b[39m\"\u001b[39m\n\u001b[1;32m   1670\u001b[0m              \u001b[39m'\u001b[39m\u001b[39mTo allow re-registration of configurables in an interactive \u001b[39m\u001b[39m'\u001b[39m\n\u001b[1;32m   1671\u001b[0m              \u001b[39m'\u001b[39m\u001b[39menvironment, use:\u001b[39m\u001b[39m\\n\u001b[39;00m\u001b[39m\\n\u001b[39;00m\u001b[39m'\u001b[39m\n\u001b[1;32m   1672\u001b[0m              \u001b[39m'\u001b[39m\u001b[39m    gin.enter_interactive_mode()\u001b[39m\u001b[39m'\u001b[39m)\n\u001b[0;32m-> 1673\u001b[0m   \u001b[39mraise\u001b[39;00m \u001b[39mValueError\u001b[39;00m(err_str\u001b[39m.\u001b[39mformat(selector))\n\u001b[1;32m   1675\u001b[0m \u001b[39mif\u001b[39;00m allowlist \u001b[39mand\u001b[39;00m denylist:\n\u001b[1;32m   1676\u001b[0m   err_str \u001b[39m=\u001b[39m \u001b[39m'\u001b[39m\u001b[39mAn allowlist or a denylist can be specified, but not both.\u001b[39m\u001b[39m'\u001b[39m\n",
      "\u001b[0;31mValueError\u001b[0m: A different configurable matching 'src.models.rnn_models.BaseRNN' already exists.\n\nTo allow re-registration of configurables in an interactive environment, use:\n\n    gin.enter_interactive_mode()"
     ]
    }
   ],
   "source": [
    "import mlflow\n",
    "from datetime import datetime\n",
    "from importlib import reload\n",
    "\n",
    "mlflow.set_tracking_uri(\"sqlite:///mlflow.db\")\n",
    "mlflow.set_experiment(\"gestures\")\n",
    "modeldir = Path(\"../../models/gestures/\").resolve()\n",
    "reload(rnn_models)\n",
    "# gin.parse_config_file(\"gestures.gin\")\n",
    "# gin.parse_config_file(\"gestures_gru.gin\")\n",
    "# gin.enter_interactive_mode()\n",
    "gin.parse_config_file(\"gestures_gru.gin\")\n",
    "\n",
    "with mlflow.start_run():\n",
    "    mlflow.set_tag(\"model\", \"convnet\")\n",
    "    mlflow.set_tag(\"dev\", \"linksmith\")\n",
    "    mlflow.log_params(gin.get_bindings(\"GRUmodel\"))\n",
    "    mlflow.log_params(gin.get_bindings(\"trainloop\"))\n",
    "    mlflow.log_param(\"datadir\", f\"{data_dir}\")\n",
    "    mlflow.log_param(\"batchsize\", f\"{batchsize}\")\n",
    "\n",
    "    # model = rnn_models.BaseRNN()\n",
    "    model = rnn_models.GRUmodel_J()\n",
    "\n",
    "    model, testloss = train_model.trainloop(\n",
    "        model=model,\n",
    "        metrics=[accuracy],\n",
    "        train_dataloader=trainloader,\n",
    "        test_dataloader=testloader,\n",
    "        log_dir=\"modellog\",\n",
    "        train_steps=len(trainloader),\n",
    "        eval_steps=len(testloader),\n",
    "        tunewriter=[\"tensorboard\", \"mlflow\", \"gin\"]\n",
    "    )\n",
    "    # mlflow.pytorch.log_model(model, \"lstm_j\")\n",
    "    mlflow.pytorch.log_model(model, \"gru\")\n",
    "    # mlflow.pytorch.log_model(model, \"gru_j\")\n",
    "    # mlflow.pytorch.log_model(model, \"rnn\")\n",
    "\n",
    "    tag = datetime.now().strftime(\"%Y%m%d-%H%M\")\n",
    "    modelpath = modeldir / (tag + \"model.pt\")\n",
    "    torch.save(model, modelpath)\n",
    "    mlflow.log_artifact(local_path=modelpath, artifact_path=\"pytorch_models\")"
   ]
  },
  {
   "attachments": {},
   "cell_type": "markdown",
   "metadata": {},
   "source": [
    "Excercises:\n",
    "\n",
    "- improve the RNN model\n",
    "- test different things. What works? What does not?\n",
    "- experiment with either GRU or LSTM layers, create your own models + ginfiles. \n",
    "- experiment with adding Conv1D layers.\n",
    "\n",
    "You should be able to get above 90% accuracy with the dataset."
   ]
  },
  {
   "cell_type": "code",
   "execution_count": 24,
   "metadata": {},
   "outputs": [],
   "source": [
    "# tag = datetime.now().strftime(\"%Y%m%d-%H%M\")\n",
    "# modelpath = modeldir / (tag + \"model.pt\")\n",
    "# torch.save(model, modelpath)\n",
    "# mlflow.log_artifact(local_path=modelpath, artifact_path=\"pytorch_models\")\n",
    "# modeldir = Path(\"../../models/gestures/\").resolve()"
   ]
  },
  {
   "cell_type": "code",
   "execution_count": 25,
   "metadata": {},
   "outputs": [
    {
     "data": {
      "text/plain": [
       "PosixPath('/workspaces/ML22/models/gestures')"
      ]
     },
     "execution_count": 25,
     "metadata": {},
     "output_type": "execute_result"
    }
   ],
   "source": [
    "modeldir"
   ]
  },
  {
   "cell_type": "code",
   "execution_count": null,
   "metadata": {},
   "outputs": [],
   "source": []
  }
 ],
 "metadata": {
  "kernelspec": {
   "display_name": "deep-learning-wM7qE7ca-py3.10",
   "language": "python",
   "name": "python3"
  },
  "language_info": {
   "codemirror_mode": {
    "name": "ipython",
    "version": 3
   },
   "file_extension": ".py",
   "mimetype": "text/x-python",
   "name": "python",
   "nbconvert_exporter": "python",
   "pygments_lexer": "ipython3",
   "version": "3.10.11"
  },
  "orig_nbformat": 4,
  "vscode": {
   "interpreter": {
    "hash": "45c41bdaf5373703b03bba2d9bd89c97dc8ee5add9f1112e039ff04603b8e2ee"
   }
  }
 },
 "nbformat": 4,
 "nbformat_minor": 2
}
