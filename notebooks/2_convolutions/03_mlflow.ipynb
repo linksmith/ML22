{
 "cells": [
  {
   "cell_type": "code",
   "execution_count": 1,
   "metadata": {},
   "outputs": [
    {
     "name": "stderr",
     "output_type": "stream",
     "text": [
      "2023-05-13 15:55:07.133265: I tensorflow/core/platform/cpu_feature_guard.cc:182] This TensorFlow binary is optimized to use available CPU instructions in performance-critical operations.\n",
      "To enable the following instructions: SSE4.1 SSE4.2 AVX AVX2 FMA, in other operations, rebuild TensorFlow with the appropriate compiler flags.\n"
     ]
    }
   ],
   "source": [
    "import sys\n",
    "sys.path.insert(0, \"../..\")\n",
    "\n",
    "import torch\n",
    "import torch.nn as nn\n",
    "from src.data import make_dataset\n",
    "from pathlib import Path\n",
    "from loguru import logger"
   ]
  },
  {
   "attachments": {},
   "cell_type": "markdown",
   "metadata": {},
   "source": [
    "Lets start with our good'ol MNIST."
   ]
  },
  {
   "cell_type": "code",
   "execution_count": 2,
   "metadata": {},
   "outputs": [],
   "source": [
    "datadir = Path(\"../../data/raw/\")\n",
    "batch_size = 64\n",
    "train_dataloader, test_dataloader = make_dataset.get_MNIST(datadir, batch_size=batch_size) "
   ]
  },
  {
   "cell_type": "code",
   "execution_count": 12,
   "metadata": {},
   "outputs": [
    {
     "data": {
      "text/plain": [
       "938"
      ]
     },
     "execution_count": 12,
     "metadata": {},
     "output_type": "execute_result"
    }
   ],
   "source": [
    "datadir.resolve().exists()"
   ]
  },
  {
   "cell_type": "code",
   "execution_count": 4,
   "metadata": {},
   "outputs": [
    {
     "data": {
      "text/plain": [
       "(938, 157)"
      ]
     },
     "execution_count": 4,
     "metadata": {},
     "output_type": "execute_result"
    }
   ],
   "source": [
    "len(train_dataloader), len(test_dataloader)"
   ]
  },
  {
   "attachments": {},
   "cell_type": "markdown",
   "metadata": {},
   "source": [
    "We can obtain an item:"
   ]
  },
  {
   "cell_type": "code",
   "execution_count": 5,
   "metadata": {},
   "outputs": [
    {
     "data": {
      "text/plain": [
       "(torch.Size([64, 1, 28, 28]), torch.Size([64]))"
      ]
     },
     "execution_count": 5,
     "metadata": {},
     "output_type": "execute_result"
    }
   ],
   "source": [
    "x, y = next(iter(train_dataloader))\n",
    "x.shape, y.shape"
   ]
  },
  {
   "attachments": {},
   "cell_type": "markdown",
   "metadata": {},
   "source": [
    "The image follows the channels-first convention: (channel, width, height). The label is an integer.\n",
    "\n",
    "Let's re-use the model we had:"
   ]
  },
  {
   "cell_type": "code",
   "execution_count": 32,
   "metadata": {},
   "outputs": [
    {
     "name": "stderr",
     "output_type": "stream",
     "text": [
      "2023-05-14 15:08:20.534 | INFO     | __main__:__init__:26 - Aggregating activationmap with size torch.Size([2, 2])\n",
      "2023-05-14 15:08:20.549 | INFO     | __main__:__init__:70 - Aggregating activationmap with size torch.Size([2, 2])\n"
     ]
    },
    {
     "name": "stdout",
     "output_type": "stream",
     "text": [
      "Using cpu device\n"
     ]
    }
   ],
   "source": [
    "import torch\n",
    "from torch import nn\n",
    "\n",
    "# Get cpu or gpu device for training.\n",
    "device = \"cuda\" if torch.cuda.is_available() else \"cpu\"\n",
    "print(f\"Using {device} device\")\n",
    "\n",
    "# Define model\n",
    "class CNN(nn.Module):\n",
    "    def __init__(self, filters, units1, units2, input_size=(32, 1, 28, 28)):\n",
    "        super().__init__()\n",
    "\n",
    "        self.convolutions = nn.Sequential(\n",
    "            nn.Conv2d(1, filters, kernel_size=3, stride=1, padding=1),\n",
    "            nn.ReLU(),\n",
    "            nn.MaxPool2d(kernel_size=2),\n",
    "            nn.Conv2d(filters, filters, kernel_size=3, stride=1, padding=0),\n",
    "            nn.ReLU(),\n",
    "            nn.MaxPool2d(kernel_size=2),\n",
    "            nn.Conv2d(filters, filters, kernel_size=3, stride=1, padding=0),\n",
    "            nn.ReLU(),\n",
    "            nn.MaxPool2d(kernel_size=2),\n",
    "        )\n",
    "\n",
    "        activation_map_size = self._conv_test(input_size)\n",
    "        logger.info(f\"Aggregating activationmap with size {activation_map_size}\")\n",
    "        self.agg = nn.AvgPool2d(activation_map_size)\n",
    "\n",
    "        self.dense = nn.Sequential(\n",
    "            nn.Flatten(),\n",
    "            nn.Linear(filters, units1),\n",
    "            nn.ReLU(),\n",
    "            nn.Linear(units1, units2),\n",
    "            nn.ReLU(),\n",
    "            nn.Linear(units2, 10)\n",
    "        )\n",
    "\n",
    "    def _conv_test(self, input_size = (32, 1, 28, 28)):\n",
    "        x = torch.ones(input_size)\n",
    "        x = self.convolutions(x)\n",
    "        return x.shape[-2:]\n",
    "\n",
    "    def forward(self, x):\n",
    "        x = self.convolutions(x)\n",
    "        x = self.agg(x)\n",
    "        logits = self.dense(x)\n",
    "        return logits\n",
    "    \n",
    "    \n",
    "# Define model\n",
    "class CNN_J(nn.Module):\n",
    "    def __init__(self, filters, units1, units2, input_size=(32, 1, 28, 28)):\n",
    "        super().__init__()\n",
    "\n",
    "        self.convolutions = nn.Sequential(\n",
    "            nn.Conv2d(1, filters, kernel_size=3, stride=1, padding=1),\n",
    "            nn.LeakyReLU(),\n",
    "            nn.MaxPool2d(kernel_size=2),\n",
    "            \n",
    "            nn.Conv2d(filters, filters, kernel_size=3, stride=1, padding=0),\n",
    "            nn.LeakyReLU(),\n",
    "            nn.MaxPool2d(kernel_size=2),\n",
    "            \n",
    "            nn.Conv2d(filters, filters, kernel_size=3, stride=1, padding=0),\n",
    "            nn.LeakyReLU(),\n",
    "            nn.MaxPool2d(kernel_size=2),            \n",
    "        )\n",
    "\n",
    "        activation_map_size = self._conv_test(input_size)\n",
    "        logger.info(f\"Aggregating activationmap with size {activation_map_size}\")\n",
    "        self.agg = nn.AvgPool2d(activation_map_size)\n",
    "\n",
    "        self.dense = nn.Sequential(\n",
    "            nn.Flatten(),\n",
    "            \n",
    "            nn.Linear(filters, units1),            \n",
    "            nn.LeakyReLU(),\n",
    "            \n",
    "            nn.Linear(units1, units2)            ,\n",
    "            nn.LeakyReLU(),\n",
    "            \n",
    "            nn.Linear(units2, 10)\n",
    "        )\n",
    "\n",
    "    def _conv_test(self, input_size = (32, 1, 28, 28)):\n",
    "        x = torch.ones(input_size)\n",
    "        x = self.convolutions(x)\n",
    "        return x.shape[-2:]\n",
    "\n",
    "    def forward(self, x):\n",
    "        x = self.convolutions(x)\n",
    "        x = self.agg(x)\n",
    "        logits = self.dense(x)\n",
    "        return logits\n",
    "\n",
    "model = CNN(filters=32, units1=128, units2=64).to(device)\n",
    "model_J = CNN_J(filters=32, units1=128, units2=64).to(device)"
   ]
  },
  {
   "cell_type": "code",
   "execution_count": 33,
   "metadata": {},
   "outputs": [
    {
     "name": "stdout",
     "output_type": "stream",
     "text": [
      "----------------------------------------------------------------\n",
      "        Layer (type)               Output Shape         Param #\n",
      "================================================================\n",
      "            Conv2d-1           [-1, 32, 28, 28]             320\n",
      "         LeakyReLU-2           [-1, 32, 28, 28]               0\n",
      "         MaxPool2d-3           [-1, 32, 14, 14]               0\n",
      "            Conv2d-4           [-1, 32, 12, 12]           9,248\n",
      "         LeakyReLU-5           [-1, 32, 12, 12]               0\n",
      "         MaxPool2d-6             [-1, 32, 6, 6]               0\n",
      "            Conv2d-7             [-1, 32, 4, 4]           9,248\n",
      "         LeakyReLU-8             [-1, 32, 4, 4]               0\n",
      "         MaxPool2d-9             [-1, 32, 2, 2]               0\n",
      "        AvgPool2d-10             [-1, 32, 1, 1]               0\n",
      "          Flatten-11                   [-1, 32]               0\n",
      "           Linear-12                  [-1, 128]           4,224\n",
      "        LeakyReLU-13                  [-1, 128]               0\n",
      "           Linear-14                   [-1, 64]           8,256\n",
      "        LeakyReLU-15                   [-1, 64]               0\n",
      "           Linear-16                   [-1, 10]             650\n",
      "================================================================\n",
      "Total params: 31,946\n",
      "Trainable params: 31,946\n",
      "Non-trainable params: 0\n",
      "----------------------------------------------------------------\n",
      "Input size (MB): 0.00\n",
      "Forward/backward pass size (MB): 0.52\n",
      "Params size (MB): 0.12\n",
      "Estimated Total Size (MB): 0.65\n",
      "----------------------------------------------------------------\n"
     ]
    }
   ],
   "source": [
    "from torchsummary import summary\n",
    "summary(model_J, input_size=(1, 28, 28))"
   ]
  },
  {
   "attachments": {},
   "cell_type": "markdown",
   "metadata": {},
   "source": [
    "And set up the optimizer, loss and accuracy."
   ]
  },
  {
   "cell_type": "code",
   "execution_count": 34,
   "metadata": {},
   "outputs": [],
   "source": [
    "import torch.optim as optim\n",
    "from src.models import metrics\n",
    "# optimizer = optim.Adam\n",
    "optimizer = optim.AdamW\n",
    "# optimizer = optim.SGD\n",
    "loss_fn = torch.nn.CrossEntropyLoss()\n",
    "accuracy = metrics.Accuracy()"
   ]
  },
  {
   "cell_type": "code",
   "execution_count": 35,
   "metadata": {},
   "outputs": [
    {
     "data": {
      "text/plain": [
       "tensor(0.1094)"
      ]
     },
     "execution_count": 35,
     "metadata": {},
     "output_type": "execute_result"
    }
   ],
   "source": [
    "yhat = model(x)\n",
    "accuracy(y, yhat)"
   ]
  },
  {
   "attachments": {},
   "cell_type": "markdown",
   "metadata": {},
   "source": [
    "# MLflow\n",
    "MLflow is an open-source platform designed to manage the entire Machine Learning (ML) lifecycle, including experimentation, reproducibility, deployment, and governance. It provides a set of APIs and tools to streamline ML workflows, making it easier to track experiments, package code, manage model versions, and deploy models.\n",
    "\n",
    "Reasons to use MLflow over TensorBoard, gin-config, or Ray:\n",
    "\n",
    "- End-to-end ML lifecycle management: While TensorBoard focuses on visualizing model training metrics and gin-config on hyperparameter configuration, MLflow covers a broader range of tasks, such as experiment tracking, model packaging, and deployment.\n",
    "\n",
    "- Framework agnostic: MLflow is not tied to a specific ML framework, making it suitable for projects using different libraries or even multiple libraries.\n",
    "\n",
    "- Model Registry: MLflow provides a centralized model registry, allowing you to version, track, and manage your models, which is not available in TensorBoard or gin-config.\n",
    "\n",
    "- Deployment support: MLflow facilitates model deployment to various platforms, such as local, cloud, or Kubernetes environments, whereas TensorBoard and gin-config are not built for deployment tasks.\n",
    "\n",
    "- Integration with other tools: MLflow integrates with popular tools and platforms like Databricks, AWS, and Azure, making it easy to incorporate into existing workflows.\n",
    "\n",
    "However, the choice between MLflow and other tools like TensorBoard, gin-config, or Ray depends on your specific use case and the scope of the ML workflow you want to manage."
   ]
  },
  {
   "cell_type": "code",
   "execution_count": 10,
   "metadata": {},
   "outputs": [
    {
     "name": "stderr",
     "output_type": "stream",
     "text": [
      "2023/05/13 15:57:06 INFO mlflow.store.db.utils: Creating initial MLflow database tables...\n",
      "2023/05/13 15:57:06 INFO mlflow.store.db.utils: Updating database tables\n",
      "INFO  [alembic.runtime.migration] Context impl SQLiteImpl.\n",
      "INFO  [alembic.runtime.migration] Will assume non-transactional DDL.\n",
      "INFO  [alembic.runtime.migration] Running upgrade  -> 451aebb31d03, add metric step\n",
      "INFO  [alembic.runtime.migration] Running upgrade 451aebb31d03 -> 90e64c465722, migrate user column to tags\n",
      "INFO  [alembic.runtime.migration] Running upgrade 90e64c465722 -> 181f10493468, allow nulls for metric values\n",
      "INFO  [alembic.runtime.migration] Running upgrade 181f10493468 -> df50e92ffc5e, Add Experiment Tags Table\n",
      "INFO  [alembic.runtime.migration] Running upgrade df50e92ffc5e -> 7ac759974ad8, Update run tags with larger limit\n",
      "INFO  [alembic.runtime.migration] Running upgrade 7ac759974ad8 -> 89d4b8295536, create latest metrics table\n",
      "INFO  [89d4b8295536_create_latest_metrics_table_py] Migration complete!\n",
      "INFO  [alembic.runtime.migration] Running upgrade 89d4b8295536 -> 2b4d017a5e9b, add model registry tables to db\n",
      "INFO  [2b4d017a5e9b_add_model_registry_tables_to_db_py] Adding registered_models and model_versions tables to database.\n",
      "INFO  [2b4d017a5e9b_add_model_registry_tables_to_db_py] Migration complete!\n",
      "INFO  [alembic.runtime.migration] Running upgrade 2b4d017a5e9b -> cfd24bdc0731, Update run status constraint with killed\n",
      "INFO  [alembic.runtime.migration] Running upgrade cfd24bdc0731 -> 0a8213491aaa, drop_duplicate_killed_constraint\n",
      "INFO  [alembic.runtime.migration] Running upgrade 0a8213491aaa -> 728d730b5ebd, add registered model tags table\n",
      "INFO  [alembic.runtime.migration] Running upgrade 728d730b5ebd -> 27a6a02d2cf1, add model version tags table\n",
      "INFO  [alembic.runtime.migration] Running upgrade 27a6a02d2cf1 -> 84291f40a231, add run_link to model_version\n",
      "INFO  [alembic.runtime.migration] Running upgrade 84291f40a231 -> a8c4a736bde6, allow nulls for run_id\n",
      "INFO  [alembic.runtime.migration] Running upgrade a8c4a736bde6 -> 39d1c3be5f05, add_is_nan_constraint_for_metrics_tables_if_necessary\n",
      "INFO  [alembic.runtime.migration] Running upgrade 39d1c3be5f05 -> c48cb773bb87, reset_default_value_for_is_nan_in_metrics_table_for_mysql\n",
      "INFO  [alembic.runtime.migration] Running upgrade c48cb773bb87 -> bd07f7e963c5, create index on run_uuid\n",
      "INFO  [alembic.runtime.migration] Running upgrade bd07f7e963c5 -> 0c779009ac13, add deleted_time field to runs table\n",
      "INFO  [alembic.runtime.migration] Running upgrade 0c779009ac13 -> cc1f77228345, change param value length to 500\n",
      "INFO  [alembic.runtime.migration] Running upgrade cc1f77228345 -> 97727af70f4d, Add creation_time and last_update_time to experiments table\n",
      "INFO  [alembic.runtime.migration] Running upgrade 97727af70f4d -> 3500859a5d39, Add Model Aliases table\n",
      "INFO  [alembic.runtime.migration] Context impl SQLiteImpl.\n",
      "INFO  [alembic.runtime.migration] Will assume non-transactional DDL.\n",
      "2023/05/13 15:57:07 INFO mlflow.tracking.fluent: Experiment with name 'mnist_convolutions' does not exist. Creating a new experiment.\n"
     ]
    },
    {
     "data": {
      "text/plain": [
       "<Experiment: artifact_location='/Users/jeremycs/Development/machinelearning/ML22/notebooks/2_convolutions/mlruns/1', creation_time=1683986227006, experiment_id='1', last_update_time=1683986227006, lifecycle_stage='active', name='mnist_convolutions', tags={}>"
      ]
     },
     "execution_count": 10,
     "metadata": {},
     "output_type": "execute_result"
    }
   ],
   "source": [
    "import mlflow\n",
    "mlflow.set_tracking_uri(\"sqlite:///mlflow.db\")\n",
    "mlflow.set_experiment(\"mnist_convolutions\")"
   ]
  },
  {
   "attachments": {},
   "cell_type": "markdown",
   "metadata": {},
   "source": [
    "In the code above, we set the MLflow tracking URI to a local SQLite database file. This is done to configure the storage location for MLflow's experiment tracking data, such as metrics, parameters, and artifacts. By specifying a SQLite database, we enable a lightweight and easy-to-use storage solution for tracking the experiments and their associated information.\n",
    "\n",
    "The line mlflow.set_experiment(\"mnist_convolutions\") sets the active MLflow experiment to \"mnist_convolutions\". This is useful for organizing and grouping your runs, as it allows you to associate the upcoming ML training runs with a specific experiment name, making it easier to search, compare, and analyze the results later."
   ]
  },
  {
   "cell_type": "code",
   "execution_count": 11,
   "metadata": {},
   "outputs": [],
   "source": [
    "from hyperopt import fmin, tpe, hp, STATUS_OK, Trials\n",
    "from hyperopt.pyll import scope"
   ]
  },
  {
   "attachments": {},
   "cell_type": "markdown",
   "metadata": {},
   "source": [
    "We import functions and classes from the hyperopt library to perform hyperparameter optimization. This library helps us find the best hyperparameter values for our machine learning model by searching through a defined search space and using optimization algorithms like Tree-structured Parzen Estimator (TPE). The goal is to improve our model's performance by tuning its hyperparameters.\n",
    "\n",
    "Advantages of TPE:\n",
    "\n",
    "- Model-based approach: TPE is a Bayesian optimization method that models the objective function as a probability distribution. It learns from previous evaluations to decide which points in the search space to explore next, making it more efficient in finding optimal hyperparameters.\n",
    "\n",
    "- Exploration-exploitation trade-off: TPE balances the trade-off between exploration (searching in new regions of the search space) and exploitation (refining around the current best points). This can lead to better results in problems with complex search spaces.\n",
    "\n",
    "- Continuous hyperparameter optimization: TPE can handle continuous hyperparameters more naturally, as it builds a probability model to estimate the performance for any given point in the search space.\n",
    "\n",
    "Lets set up an objective function and start logging some usefull things we might want to track:"
   ]
  },
  {
   "cell_type": "code",
   "execution_count": 16,
   "metadata": {},
   "outputs": [],
   "source": [
    "import torch.optim as optim\n",
    "from src.models import metrics\n",
    "from src.models import train_model\n",
    "from datetime import datetime\n",
    "modeldir = Path(\"/Users/jeremycs/Development/machinelearning/ML22/src/models\")\n",
    "\n",
    "# Define the objective function for hyperparameter optimization\n",
    "def objective(params):\n",
    "    # Start a new MLflow run for tracking the experiment\n",
    "    with mlflow.start_run():\n",
    "        # Set MLflow tags to record metadata about the model and developer\n",
    "        mlflow.set_tag(\"model\", \"convnet\")\n",
    "        mlflow.set_tag(\"dev\", \"linksmith\")\n",
    "        # Log hyperparameters to MLflow\n",
    "        mlflow.log_params(params)\n",
    "        mlflow.log_param(\"datadir\", f\"{datadir.resolve()}\")\n",
    "        mlflow.log_param(\"batchsize\", f\"{batch_size}\")\n",
    "\n",
    "        # Initialize the optimizer, loss function, and accuracy metric      \n",
    "        optimizer = optim.Adam\n",
    "        loss_fn = torch.nn.CrossEntropyLoss()\n",
    "        accuracy = metrics.Accuracy()\n",
    "\n",
    "        # Instantiate the CNN model with the given hyperparameters\n",
    "        model_j = CNN_J(**params)\n",
    "        # Train the model using a custom train loop\n",
    "        model, test_loss = train_model.trainloop(\n",
    "            epochs=3,\n",
    "            model=model_j,\n",
    "            optimizer=optimizer,\n",
    "            learning_rate=1e-3,\n",
    "            loss_fn=loss_fn,\n",
    "            metrics=[accuracy],\n",
    "            train_dataloader=train_dataloader,\n",
    "            test_dataloader=test_dataloader,\n",
    "            log_dir=\"modellog\",\n",
    "            # set the tunewriter to mlflow.\n",
    "            tunewriter=[\"mlflow\"],\n",
    "            train_steps=100, #len(train_dataloader),\n",
    "            eval_steps=100, #len(test_dataloader),\n",
    "        )\n",
    "\n",
    "        # Save the trained model with a timestamp   \n",
    "        tag = datetime.now().strftime(\"%Y%m%d-%H%M\")\n",
    "        modelpath = modeldir / (tag + \"model.pt\")\n",
    "        torch.save(model_j, modelpath)\n",
    "\n",
    "        # Log the saved model as an artifact in MLflow\n",
    "        mlflow.log_artifact(local_path=modelpath, artifact_path=\"pytorch_models\")\n",
    "        return {'loss' : test_loss, 'status': STATUS_OK}"
   ]
  },
  {
   "cell_type": "code",
   "execution_count": 23,
   "metadata": {},
   "outputs": [],
   "source": [
    "# search_space_1 = {\n",
    "#     'filters' : scope.int(hp.quniform('filters', 16, 128, 8)),\n",
    "#     'units1' : scope.int(hp.quniform('units1', 32, 128, 8)),\n",
    "#     'units2' : scope.int(hp.quniform('units2', 32, 128, 8)),\n",
    "# }\n",
    "\n",
    "# search_space_2 = {\n",
    "#     'filters' : scope.int(hp.quniform('filters', 104, 124, 2)),\n",
    "#     'units1' : scope.int(hp.quniform('units1', 58, 78, 2)),\n",
    "#     'units2' : scope.int(hp.quniform('units2', 52, 92, 4)),\n",
    "# }\n",
    "\n",
    "search_space = {\n",
    "    'filters' : scope.int(hp.quniform('filters', 120, 120, 1)),\n",
    "    'units1' : scope.int(hp.quniform('units1', 66, 66, 1)),\n",
    "    'units2' : scope.int(hp.quniform('units2', 88, 88, 1)),\n",
    "    'learning_rate' : scope.int(hp.quniform('learning_rate', 0.0006, 0.0014, 0.0001)),\n",
    "}"
   ]
  },
  {
   "attachments": {},
   "cell_type": "markdown",
   "metadata": {},
   "source": [
    "We define a search space for hyperparameter optimization using Hyperopt. The search space specifies the range and distribution of hyperparameters to explore during the optimization process. This is crucial for finding the optimal set of hyperparameters that yield the best performance for the machine learning model. The search space defined here includes the number of filters in the convolutional layers, and the number of units in two fully connected layers, allowing Hyperopt to find the best combination within the given ranges.\n",
    "\n",
    "\n",
    "Now, finally, let us perform the hyperparameter search using the fmin function from hyperopt. The function takes the following arguments:\n",
    "\n",
    "- `fn=objective`: The objective function to minimize, which is defined earlier to train the model and return the test loss.\n",
    "- `space=search_space`: The search space defined earlier, containing the range of hyperparameters to explore.\n",
    "- `algo=tpe.suggest`: The optimization algorithm to use, in this case, the Tree-structured Parzen Estimator (TPE) method.\n",
    "- `max_evals=10`: The maximum number of function evaluations, i.e., the maximum number of hyperparameter combinations to try.\n",
    "- `trials=Trials()`: A Trials object to store the results of each evaluation.\n",
    "\n",
    "The fmin function searches for the best hyperparameters within the given search space using the TPE algorithm, aiming to minimize the objective function (test loss). Once the optimization process is completed, the best hyperparameters found are stored in the best_result variable."
   ]
  },
  {
   "cell_type": "code",
   "execution_count": null,
   "metadata": {},
   "outputs": [],
   "source": [
    "best_result = fmin(\n",
    "    fn=objective,\n",
    "    space=search_space,\n",
    "    algo=tpe.suggest,\n",
    "    max_evals=10,\n",
    "    trials=Trials()\n",
    ")"
   ]
  },
  {
   "attachments": {},
   "cell_type": "markdown",
   "metadata": {},
   "source": [
    "After running this, you can look at the best_result"
   ]
  },
  {
   "cell_type": "code",
   "execution_count": 37,
   "metadata": {},
   "outputs": [
    {
     "name": "stderr",
     "output_type": "stream",
     "text": [
      "2023-05-14 15:18:28.263 | INFO     | __main__:__init__:70 - Aggregating activationmap with size torch.Size([2, 2])\n",
      "100%|\u001b[38;2;30;71;6m██████████\u001b[0m| 938/938 [02:04<00:00,  7.53it/s]\n",
      "2023-05-14 15:20:40.666 | INFO     | src.models.train_model:trainloop:180 - Epoch 0 train 0.6841 test 0.5026 metric ['0.8032']\n",
      "100%|\u001b[38;2;30;71;6m██████████\u001b[0m| 938/938 [01:56<00:00,  8.05it/s]\n",
      "2023-05-14 15:22:45.509 | INFO     | src.models.train_model:trainloop:180 - Epoch 1 train 0.3825 test 0.3538 metric ['0.8692']\n",
      "100%|\u001b[38;2;30;71;6m██████████\u001b[0m| 938/938 [01:57<00:00,  7.97it/s]\n",
      "2023-05-14 15:24:50.954 | INFO     | src.models.train_model:trainloop:180 - Epoch 2 train 0.3113 test 0.3402 metric ['0.8743']\n",
      "100%|\u001b[38;2;30;71;6m██████████\u001b[0m| 938/938 [01:54<00:00,  8.22it/s]\n",
      "2023-05-14 15:26:52.478 | INFO     | src.models.train_model:trainloop:180 - Epoch 3 train 0.2673 test 0.2926 metric ['0.8945']\n",
      "100%|\u001b[38;2;30;71;6m██████████\u001b[0m| 938/938 [01:43<00:00,  9.07it/s]\n",
      "2023-05-14 15:28:42.720 | INFO     | src.models.train_model:trainloop:180 - Epoch 4 train 0.2410 test 0.2772 metric ['0.9008']\n",
      "100%|\u001b[38;2;30;71;6m██████████\u001b[0m| 938/938 [01:44<00:00,  8.99it/s]\n",
      "2023-05-14 15:30:34.007 | INFO     | src.models.train_model:trainloop:180 - Epoch 5 train 0.2123 test 0.2745 metric ['0.9058']\n",
      "100%|\u001b[38;2;30;71;6m██████████\u001b[0m| 938/938 [01:42<00:00,  9.17it/s]\n",
      "2023-05-14 15:32:22.907 | INFO     | src.models.train_model:trainloop:180 - Epoch 6 train 0.1962 test 0.2581 metric ['0.9084']\n",
      "100%|\u001b[38;2;30;71;6m██████████\u001b[0m| 938/938 [01:38<00:00,  9.48it/s]\n",
      "2023-05-14 15:34:08.592 | INFO     | src.models.train_model:trainloop:180 - Epoch 7 train 0.1746 test 0.2385 metric ['0.9141']\n",
      "100%|\u001b[38;2;30;71;6m██████████\u001b[0m| 938/938 [01:40<00:00,  9.35it/s]\n",
      "2023-05-14 15:35:56.020 | INFO     | src.models.train_model:trainloop:180 - Epoch 8 train 0.1628 test 0.2536 metric ['0.9168']\n",
      "100%|\u001b[38;2;30;71;6m██████████\u001b[0m| 938/938 [01:41<00:00,  9.26it/s]\n",
      "2023-05-14 15:37:43.940 | INFO     | src.models.train_model:trainloop:180 - Epoch 9 train 0.1450 test 0.2542 metric ['0.9153']\n",
      "100%|\u001b[38;2;30;71;6m██████████\u001b[0m| 938/938 [01:39<00:00,  9.38it/s]\n",
      "2023-05-14 15:39:30.697 | INFO     | src.models.train_model:trainloop:180 - Epoch 10 train 0.1335 test 0.2759 metric ['0.9102']\n",
      "100%|\u001b[38;2;30;71;6m██████████\u001b[0m| 938/938 [01:44<00:00,  8.96it/s]\n",
      "2023-05-14 15:41:22.248 | INFO     | src.models.train_model:trainloop:180 - Epoch 11 train 0.1189 test 0.2799 metric ['0.9210']\n",
      "100%|\u001b[38;2;30;71;6m██████████\u001b[0m| 938/938 [01:43<00:00,  9.05it/s]\n",
      "2023-05-14 15:43:11.628 | INFO     | src.models.train_model:trainloop:180 - Epoch 12 train 0.1119 test 0.2865 metric ['0.9141']\n",
      "100%|\u001b[38;2;30;71;6m██████████\u001b[0m| 938/938 [01:23<00:00, 11.20it/s]\n",
      "2023-05-14 15:44:41.140 | INFO     | src.models.train_model:trainloop:180 - Epoch 13 train 0.0998 test 0.2639 metric ['0.9222']\n",
      "100%|\u001b[38;2;30;71;6m██████████\u001b[0m| 938/938 [01:23<00:00, 11.25it/s]\n",
      "2023-05-14 15:46:10.351 | INFO     | src.models.train_model:trainloop:180 - Epoch 14 train 0.0910 test 0.2894 metric ['0.9209']\n",
      "100%|\u001b[38;2;30;71;6m██████████\u001b[0m| 15/15 [27:42<00:00, 110.81s/it]\n"
     ]
    }
   ],
   "source": [
    "model_j = CNN_J(filters=120, units1=66, units2=88).to(device)\n",
    "# summary(model, input_size=(1, 28, 28))\n",
    "trained_model, test_loss =  train_model.trainloop(\n",
    "    epochs=15,\n",
    "    model=model_j,\n",
    "    train_dataloader=train_dataloader,    \n",
    "    optimizer = optim.AdamW,\n",
    "    loss_fn = torch.nn.CrossEntropyLoss(),    \n",
    "    metrics=[metrics.Accuracy()],\n",
    "    test_dataloader=test_dataloader,\n",
    "    train_steps=len(train_dataloader),\n",
    "    eval_steps=len(test_dataloader),\n",
    "    tunewriter=[\"mlflow\"],\n",
    "    learning_rate=1e-3,\n",
    "    log_dir=\"modellog\",\n",
    "    factor=0.95,\n",
    ")"
   ]
  },
  {
   "cell_type": "code",
   "execution_count": null,
   "metadata": {},
   "outputs": [],
   "source": [
    "tag = datetime.now().strftime(\"%Y%m%d-%H%M\")\n",
    "modelpath = modeldir / (tag + \"model.pt\")\n",
    "torch.save(trained_model, modelpath)"
   ]
  },
  {
   "cell_type": "code",
   "execution_count": null,
   "metadata": {},
   "outputs": [],
   "source": [
    "# best_result = {'filters': 104.0, 'units1': 58.0, 'units2': 52.0}\n",
    "# training_run_1 = {'filters': 112.0, 'units1': 72.0, 'units2': 56.0}\n",
    "# training_run_2 = {'filters': 114.0, 'units1': 72.0, 'units2': 52.0}\n",
    "# training_run_3 = {'filters': 122.0, 'units1': 66.0, 'units2': 88.0}"
   ]
  },
  {
   "attachments": {},
   "cell_type": "markdown",
   "metadata": {},
   "source": []
  },
  {
   "attachments": {},
   "cell_type": "markdown",
   "metadata": {},
   "source": [
    "But you can also explore the UI from mlflow. It is pretty nice. The help you out, you can use the makefile by typing `make` in the terminal."
   ]
  },
  {
   "attachments": {},
   "cell_type": "markdown",
   "metadata": {},
   "source": []
  }
 ],
 "metadata": {
  "kernelspec": {
   "display_name": "deep-learning-wM7qE7ca-py3.10",
   "language": "python",
   "name": "python3"
  },
  "language_info": {
   "codemirror_mode": {
    "name": "ipython",
    "version": 3
   },
   "file_extension": ".py",
   "mimetype": "text/x-python",
   "name": "python",
   "nbconvert_exporter": "python",
   "pygments_lexer": "ipython3",
   "version": "3.9.16"
  },
  "orig_nbformat": 4,
  "vscode": {
   "interpreter": {
    "hash": "45c41bdaf5373703b03bba2d9bd89c97dc8ee5add9f1112e039ff04603b8e2ee"
   }
  }
 },
 "nbformat": 4,
 "nbformat_minor": 2
}
